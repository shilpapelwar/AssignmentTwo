{
 "cells": [
  {
   "cell_type": "markdown",
   "id": "9a524ffd",
   "metadata": {},
   "source": [
    "###### Write a program which will find all such numbers which are divisible by 7 but are not a multiple of 5, between 2000 and 3200 (both included). The numbers obtained should be printed in a comma-separated sequence on a single line."
   ]
  },
  {
   "cell_type": "code",
   "execution_count": null,
   "id": "ef9b636e",
   "metadata": {},
   "outputs": [],
   "source": [
    "r = range(2000,3200)\n",
    "for i in r:\n",
    "    if i%7==0:\n",
    "        if i*5!=0:\n",
    "            print(i, end=\",\")\n",
    "        \n"
   ]
  },
  {
   "cell_type": "markdown",
   "id": "e069a494",
   "metadata": {},
   "source": [
    "###### Write a Python program to accept the user's first and last name and then getting them printed in the the reverse order with a space between first name and last name."
   ]
  },
  {
   "cell_type": "code",
   "execution_count": null,
   "id": "a4cfc73e",
   "metadata": {},
   "outputs": [],
   "source": [
    "FN = input(\"Enter First Name: \")\n",
    "SN = input(\"Enter Second Name: \")\n",
    "R = (FN+\" \"+SN)\n",
    "print(R[::-1])"
   ]
  },
  {
   "cell_type": "markdown",
   "id": "befc99f4",
   "metadata": {},
   "source": [
    "#### Write a Python program to find the volume of a sphere with diameter 12 cm. Formula: V=4/3 * π * r 3"
   ]
  },
  {
   "cell_type": "code",
   "execution_count": null,
   "id": "fbec3629",
   "metadata": {},
   "outputs": [],
   "source": [
    "D = 12   #Diameter\n",
    "r= D/2   #radius\n",
    "p =22/7  #pie\n",
    "\n",
    "V = (4/3) * p * (r*r*r)\n",
    "print(V)"
   ]
  },
  {
   "cell_type": "code",
   "execution_count": null,
   "id": "e7c97e84",
   "metadata": {},
   "outputs": [],
   "source": []
  }
 ],
 "metadata": {
  "kernelspec": {
   "display_name": "Python 3",
   "language": "python",
   "name": "python3"
  },
  "language_info": {
   "codemirror_mode": {
    "name": "ipython",
    "version": 3
   },
   "file_extension": ".py",
   "mimetype": "text/x-python",
   "name": "python",
   "nbconvert_exporter": "python",
   "pygments_lexer": "ipython3",
   "version": "3.8.8"
  }
 },
 "nbformat": 4,
 "nbformat_minor": 5
}
